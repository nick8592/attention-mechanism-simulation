{
 "cells": [
  {
   "cell_type": "code",
   "execution_count": 338,
   "metadata": {},
   "outputs": [],
   "source": [
    "import numpy as np\n",
    "from scipy.special import softmax"
   ]
  },
  {
   "cell_type": "code",
   "execution_count": 339,
   "metadata": {},
   "outputs": [],
   "source": [
    "np.random.seed(234)"
   ]
  },
  {
   "cell_type": "code",
   "execution_count": 340,
   "metadata": {},
   "outputs": [
    {
     "name": "stdout",
     "output_type": "stream",
     "text": [
      "[[0.  0.3]\n",
      " [0.9 1. ]]\n",
      "[[0.2 0.7]\n",
      " [0.9 0.6]]\n",
      "[[0.5 0.5]\n",
      " [0.7 0.3]]\n"
     ]
    }
   ],
   "source": [
    "# Create R,G,B channel with 2x2 array filled with random values between 0 and 1\n",
    "r_channel = np.random.rand(2, 2).round(1)\n",
    "g_channel = np.random.rand(2, 2).round(1)\n",
    "b_channel = np.random.rand(2, 2).round(1)\n",
    "\n",
    "print(r_channel)\n",
    "print(g_channel)\n",
    "print(b_channel)"
   ]
  },
  {
   "cell_type": "code",
   "execution_count": 341,
   "metadata": {},
   "outputs": [
    {
     "name": "stdout",
     "output_type": "stream",
     "text": [
      "[0.  0.3 0.9 1. ]\n",
      "[0.2 0.7 0.9 0.6]\n",
      "[0.5 0.5 0.7 0.3]\n"
     ]
    }
   ],
   "source": [
    "# Flatten each channel\n",
    "r_channel_flattened = r_channel.flatten()\n",
    "g_channel_flattened = g_channel.flatten()\n",
    "b_channel_flattened = b_channel.flatten()\n",
    "\n",
    "print(r_channel_flattened)\n",
    "print(g_channel_flattened)\n",
    "print(b_channel_flattened)"
   ]
  },
  {
   "cell_type": "code",
   "execution_count": 342,
   "metadata": {},
   "outputs": [
    {
     "name": "stdout",
     "output_type": "stream",
     "text": [
      "(4, 3)\n",
      "[[0.  0.2 0.5]\n",
      " [0.3 0.7 0.5]\n",
      " [0.9 0.9 0.7]\n",
      " [1.  0.6 0.3]]\n"
     ]
    }
   ],
   "source": [
    "# Combine the flattened channels into a 4x3 matrix\n",
    "combined_matrix = np.column_stack([r_channel_flattened, g_channel_flattened, b_channel_flattened])\n",
    "\n",
    "print(combined_matrix.shape)\n",
    "print(combined_matrix)"
   ]
  },
  {
   "cell_type": "code",
   "execution_count": 343,
   "metadata": {},
   "outputs": [
    {
     "name": "stdout",
     "output_type": "stream",
     "text": [
      "[[ 0.   1.4]\n",
      " [-0.6  0.9]\n",
      " [-1.3  1.1]]\n",
      "[[-1.9  0.5]\n",
      " [ 1.3 -0.2]\n",
      " [-0.1 -0.9]]\n",
      "[[-0.3  0.9]\n",
      " [-0.6 -1.3]\n",
      " [ 1.7  0.3]]\n"
     ]
    }
   ],
   "source": [
    "# Create weights for Q, K, V with 3x2 array filled with random values\n",
    "q_weight = np.random.randn(3, 2).round(1)\n",
    "k_weight = np.random.randn(3, 2).round(1)\n",
    "v_weight = np.random.randn(3, 2).round(1)\n",
    "\n",
    "print(q_weight)\n",
    "print(k_weight)\n",
    "print(v_weight)"
   ]
  },
  {
   "cell_type": "code",
   "execution_count": 344,
   "metadata": {},
   "outputs": [
    {
     "name": "stdout",
     "output_type": "stream",
     "text": [
      "[[-0.77  0.73]\n",
      " [-1.07  1.6 ]\n",
      " [-1.45  2.84]\n",
      " [-0.75  2.27]]\n",
      "[[ 0.21 -0.49]\n",
      " [ 0.29 -0.44]\n",
      " [-0.61 -0.36]\n",
      " [-1.15  0.11]]\n",
      "[[ 0.73 -0.11]\n",
      " [ 0.34 -0.49]\n",
      " [ 0.38 -0.15]\n",
      " [-0.15  0.21]]\n"
     ]
    }
   ],
   "source": [
    "# Dot product of combined_matrix with Q, K, V weights\n",
    "q = np.dot(combined_matrix, q_weight)\n",
    "k = np.dot(combined_matrix, k_weight)\n",
    "v = np.dot(combined_matrix, v_weight)\n",
    "\n",
    "print(q)\n",
    "print(k)\n",
    "print(v)"
   ]
  },
  {
   "cell_type": "code",
   "execution_count": 345,
   "metadata": {},
   "outputs": [
    {
     "name": "stdout",
     "output_type": "stream",
     "text": [
      "(4, 4)\n",
      "[[-0.52 -0.54  0.21  0.97]\n",
      " [-1.01 -1.01  0.08  1.41]\n",
      " [-1.7  -1.67 -0.14  1.98]\n",
      " [-1.27 -1.22 -0.36  1.11]]\n"
     ]
    }
   ],
   "source": [
    "# Dot product of Q, K (transposed)\n",
    "k_transposed = k.T  # Transpose k\n",
    "attention_weight = np.dot(q, k_transposed).round(2)\n",
    "\n",
    "print(attention_weight.shape)\n",
    "print(attention_weight)"
   ]
  },
  {
   "cell_type": "code",
   "execution_count": 346,
   "metadata": {},
   "outputs": [
    {
     "name": "stdout",
     "output_type": "stream",
     "text": [
      "8\n",
      "[[-0.18 -0.19  0.07  0.34]\n",
      " [-0.36 -0.36  0.03  0.5 ]\n",
      " [-0.6  -0.59 -0.05  0.7 ]\n",
      " [-0.45 -0.43 -0.13  0.39]]\n"
     ]
    }
   ],
   "source": [
    "# Devided attention weight with numbers of things in K\n",
    "num_k = k.size\n",
    "attention_weight = (attention_weight / np.sqrt(num_k)).round(2)\n",
    "\n",
    "print(num_k)\n",
    "print(attention_weight)"
   ]
  },
  {
   "cell_type": "code",
   "execution_count": 347,
   "metadata": {},
   "outputs": [
    {
     "name": "stdout",
     "output_type": "stream",
     "text": [
      "[[0.2  0.2  0.26 0.34]\n",
      " [0.17 0.17 0.25 0.4 ]\n",
      " [0.13 0.14 0.23 0.5 ]\n",
      " [0.18 0.18 0.24 0.41]]\n"
     ]
    }
   ],
   "source": [
    "# Apply softmax to attention weight\n",
    "attention_weight = softmax(attention_weight, axis=1).round(2)\n",
    "\n",
    "print(attention_weight)"
   ]
  },
  {
   "cell_type": "code",
   "execution_count": 348,
   "metadata": {},
   "outputs": [
    {
     "name": "stdout",
     "output_type": "stream",
     "text": [
      "[[ 0.2618 -0.0876]\n",
      " [ 0.2169 -0.0555]\n",
      " [ 0.1549 -0.0124]\n",
      " [ 0.2223 -0.0579]]\n"
     ]
    }
   ],
   "source": [
    "# Dot product of attention weight with V (Perform weighted average on V)\n",
    "attention_value = np.dot(attention_weight, v)\n",
    "\n",
    "print(attention_value)"
   ]
  },
  {
   "cell_type": "code",
   "execution_count": 349,
   "metadata": {},
   "outputs": [
    {
     "name": "stdout",
     "output_type": "stream",
     "text": [
      "[[ 0.05  0.2  -0.01]\n",
      " [ 0.04  0.18  0.  ]\n",
      " [ 0.02  0.15  0.02]\n",
      " [ 0.04  0.18  0.  ]]\n"
     ]
    }
   ],
   "source": [
    "# Dot product with learnable output weight (linear layer) to convert back to RGB space\n",
    "output_weight = np.random.randn(2, 3)\n",
    "output = np.dot(attention_value, output_weight).round(2)\n",
    "\n",
    "print(output)"
   ]
  },
  {
   "cell_type": "code",
   "execution_count": 350,
   "metadata": {},
   "outputs": [
    {
     "name": "stdout",
     "output_type": "stream",
     "text": [
      "[[0.  0.2 0.5]\n",
      " [0.3 0.7 0.5]\n",
      " [0.9 0.9 0.7]\n",
      " [1.  0.6 0.3]]\n",
      "[[0.05 0.4  0.49]\n",
      " [0.34 0.88 0.5 ]\n",
      " [0.92 1.05 0.72]\n",
      " [1.04 0.78 0.3 ]]\n"
     ]
    }
   ],
   "source": [
    "# Skipped connection with original RGB value to preserve original pixel value information\n",
    "output = output + combined_matrix\n",
    "\n",
    "print(combined_matrix)\n",
    "print(output)"
   ]
  }
 ],
 "metadata": {
  "kernelspec": {
   "display_name": "pytorch-m1",
   "language": "python",
   "name": "python3"
  },
  "language_info": {
   "codemirror_mode": {
    "name": "ipython",
    "version": 3
   },
   "file_extension": ".py",
   "mimetype": "text/x-python",
   "name": "python",
   "nbconvert_exporter": "python",
   "pygments_lexer": "ipython3",
   "version": "3.10.15"
  }
 },
 "nbformat": 4,
 "nbformat_minor": 2
}
